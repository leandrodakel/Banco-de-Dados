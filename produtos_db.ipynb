{
  "nbformat": 4,
  "nbformat_minor": 0,
  "metadata": {
    "colab": {
      "provenance": [],
      "authorship_tag": "ABX9TyNDehY0Csht/KD4c53egsXD",
      "include_colab_link": true
    },
    "kernelspec": {
      "name": "python3",
      "display_name": "Python 3"
    },
    "language_info": {
      "name": "python"
    }
  },
  "cells": [
    {
      "cell_type": "markdown",
      "metadata": {
        "id": "view-in-github",
        "colab_type": "text"
      },
      "source": [
        "<a href=\"https://colab.research.google.com/github/leandrodakel/Banco-de-Dados/blob/main/produtos_db.ipynb\" target=\"_parent\"><img src=\"https://colab.research.google.com/assets/colab-badge.svg\" alt=\"Open In Colab\"/></a>"
      ]
    },
    {
      "cell_type": "code",
      "source": [
        "# Criando um banco de dados para armazenar informações sobbre produtos\n",
        "\n",
        "import sqlite3\n",
        "\n",
        "# 1. Conectar ao banco de dados (ou criar um novo)\n",
        "\n",
        "conn = sqlite3.connect('exemplo.db')\n",
        "\n",
        "\n",
        "# 2. Criar um objeto cursor\n",
        "\n",
        "cursor = conn.cursor()\n",
        "\n",
        "\n",
        "# 3. Definir o comando SQL para criar a tabela\n",
        "\n",
        "create_table = \"\"\"\n",
        "\n",
        "CREATE TABLE IF NOT EXISTS Produtos (\n",
        "\n",
        "    id INTEGER PRIMARY KEY,\n",
        "\n",
        "    nome TEXT NOT NULL,\n",
        "\n",
        "    preco REAL NOT NULL,\n",
        "\n",
        "    estoque INTEGER\n",
        "\n",
        ");\n",
        "\n",
        "\"\"\"\n",
        "\n",
        "# 4. Executar o comando SQL para criar a tabela\n",
        "\n",
        "cursor.execute(create_table)\n",
        "\n",
        "# 5. Confirmar as alterações (commit)\n",
        "\n",
        "conn.commit()\n",
        "\n",
        "# 6. Fechar a conexão com o banco de dados\n",
        "\n",
        "conn.close()"
      ],
      "metadata": {
        "id": "dQc0efPULUSo"
      },
      "execution_count": 4,
      "outputs": []
    },
    {
      "cell_type": "code",
      "execution_count": 8,
      "metadata": {
        "id": "XRY2Y966Kq_N"
      },
      "outputs": [],
      "source": [
        "import sqlite3\n",
        "\n",
        "# Conectando ao banco de dados\n",
        "\n",
        "conn = sqlite3.connect('exemplo.db')\n",
        "\n",
        "cursor = conn.cursor()\n",
        "\n",
        "# Dados do novo produto\n",
        "\n",
        "novo_produto = ('Camiseta', 29.99, 59)\n",
        "\n",
        "# Comando SQL para inserir o novo produto na tabela\n",
        "\n",
        "inserir_produto = \"INSERT INTO Produtos (nome, preco, estoque) VALUES (?, ?, ?)\"\n",
        "\n",
        "# Executando o comando SQL para inserção\n",
        "\n",
        "cursor.execute(inserir_produto, novo_produto)\n",
        "\n",
        "# Confirmando as alterações\n",
        "\n",
        "conn.commit()\n",
        "\n",
        "# Fechando a conexão\n",
        "\n",
        "conn.close()\n"
      ]
    },
    {
      "cell_type": "code",
      "source": [
        "# Confira, a seguir, um exemplo de como você pode recuperar todos os produtos da tabela “Produtos” e exibi-los:\n",
        "\n",
        "import sqlite3\n",
        "\n",
        "\n",
        "# Conectando ao banco de dados\n",
        "\n",
        "conn = sqlite3.connect('exemplo.db')\n",
        "\n",
        "cursor = conn.cursor()\n",
        "\n",
        "\n",
        "# Comando SQL para selecionar todos os produtos\n",
        "\n",
        "selecionar_produtos = \"SELECT * FROM Produtos\"\n",
        "\n",
        "\n",
        "# Executando o comando SQL\n",
        "\n",
        "cursor.execute(selecionar_produtos)\n",
        "\n",
        "\n",
        "# Obtendo todos os registros e exibindo-os\n",
        "\n",
        "produtos = cursor.fetchall()\n",
        "\n",
        "for produto in produtos:\n",
        "\n",
        "    print(produto)\n",
        "\n",
        "\n",
        "# Fechando a conexão\n",
        "\n",
        "conn.close()\n"
      ],
      "metadata": {
        "colab": {
          "base_uri": "https://localhost:8080/"
        },
        "id": "-OhHAaGAKxsW",
        "outputId": "b4695cb3-9005-4ab9-87b8-2562970a77eb"
      },
      "execution_count": 13,
      "outputs": [
        {
          "output_type": "stream",
          "name": "stdout",
          "text": [
            "(1, 'Camiseta', 19.99, 50)\n",
            "(3, 'Camiseta', 29.99, 59)\n"
          ]
        }
      ]
    },
    {
      "cell_type": "code",
      "source": [
        "# Acompanhe, agora, um exemplo de como atualizar o preço de um produto específico na tabela “Produtos”:\n",
        "\n",
        "import sqlite3\n",
        "\n",
        "# Conectando ao banco de dados\n",
        "\n",
        "conn = sqlite3.connect('exemplo.db')\n",
        "\n",
        "cursor = conn.cursor()\n",
        "\n",
        "# Novo preço e ID do produto a ser atualizado\n",
        "\n",
        "novo_preco = 79.99\n",
        "\n",
        "produto_id = 2  # Suponha que queiramos atualizar o produto com ID 1\n",
        "\n",
        "# Comando SQL para atualizar o preço do produto\n",
        "\n",
        "atualizar_preco = \"UPDATE Produtos SET preco = ? WHERE id = ?\"\n",
        "\n",
        "# Executando o comando SQL de atualização\n",
        "\n",
        "cursor.execute(atualizar_preco, (novo_preco, produto_id))\n",
        "\n",
        "# Confirmando as alterações\n",
        "\n",
        "conn.commit()\n",
        "\n",
        "# Fechando a conexão\n",
        "\n",
        "conn.close()\n"
      ],
      "metadata": {
        "id": "TnK7DkfIKxaz"
      },
      "execution_count": 10,
      "outputs": []
    },
    {
      "cell_type": "code",
      "source": [
        "# Observe, a seguir, um exemplo de como excluir um produto da tabela “Produtos” com base no seu ID:\n",
        "\n",
        "import sqlite3\n",
        "\n",
        "# Conectando ao banco de dados\n",
        "\n",
        "conn = sqlite3.connect('exemplo.db')\n",
        "\n",
        "cursor = conn.cursor()\n",
        "\n",
        "# ID do produto a ser excluído\n",
        "\n",
        "produto_id = 2  # Suponha que queiramos excluir o produto com ID 2\n",
        "\n",
        "# Comando SQL para excluir o produto\n",
        "\n",
        "excluir_produto = \"DELETE FROM Produtos WHERE id = ?\"\n",
        "\n",
        "# Executando o comando SQL de exclusão\n",
        "\n",
        "cursor.execute(excluir_produto, (produto_id,))\n",
        "\n",
        "# Confirmando as alterações\n",
        "\n",
        "conn.commit()\n",
        "\n",
        "# Fechando a conexão\n",
        "\n",
        "conn.close()\n"
      ],
      "metadata": {
        "id": "wChQF3JIKw95"
      },
      "execution_count": 12,
      "outputs": []
    }
  ]
}
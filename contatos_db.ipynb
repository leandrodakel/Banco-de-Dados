{
  "nbformat": 4,
  "nbformat_minor": 0,
  "metadata": {
    "colab": {
      "provenance": [],
      "authorship_tag": "ABX9TyO3kBo0riLTvKRKORlEgx56",
      "include_colab_link": true
    },
    "kernelspec": {
      "name": "python3",
      "display_name": "Python 3"
    },
    "language_info": {
      "name": "python"
    }
  },
  "cells": [
    {
      "cell_type": "markdown",
      "metadata": {
        "id": "view-in-github",
        "colab_type": "text"
      },
      "source": [
        "<a href=\"https://colab.research.google.com/github/leandrodakel/Banco-de-Dados/blob/main/contatos_db.ipynb\" target=\"_parent\"><img src=\"https://colab.research.google.com/assets/colab-badge.svg\" alt=\"Open In Colab\"/></a>"
      ]
    },
    {
      "cell_type": "code",
      "execution_count": 18,
      "metadata": {
        "id": "gaUR35NQRCwu"
      },
      "outputs": [],
      "source": [
        "import sqlite3\n",
        "\n",
        "# CREATE (Criação da tabela e inserção de dados de exemplo)\n",
        "\n",
        "conn = sqlite3.connect('contatos.db')\n",
        "\n",
        "cursor = conn.cursor()\n",
        "\n",
        "cursor.execute('''\n",
        "\n",
        "    CREATE TABLE IF NOT EXISTS Contatos (\n",
        "\n",
        "        id INTEGER PRIMARY KEY AUTOINCREMENT,\n",
        "\n",
        "        nome TEXT,\n",
        "\n",
        "        email TEXT,\n",
        "\n",
        "        telefone TEXT\n",
        "\n",
        "    )\n",
        "\n",
        "''')\n",
        "\n",
        "dados_exemplo = [\n",
        "\n",
        "    ('João', 'joao@email.com', '123-456-7890'),\n",
        "\n",
        "    ('Maria', 'maria@email.com', '987-654-3210'),\n",
        "\n",
        "    ('Carlos', 'carlos@email.com', '555-555-5555')\n",
        "\n",
        "]\n",
        "\n",
        "cursor.executemany('INSERT INTO Contatos (nome, email, telefone) VALUES (?, ?, ?)', dados_exemplo)\n",
        "\n",
        "conn.commit()\n"
      ]
    },
    {
      "cell_type": "code",
      "source": [
        "# READ (Leitura e exibição dos contatos)\n",
        "\n",
        "cursor.execute('SELECT * FROM Contatos')\n",
        "\n",
        "contatos = cursor.fetchall()\n",
        "\n",
        "print(\"Contatos:\")\n",
        "\n",
        "for contato in contatos:\n",
        "    print(contato)"
      ],
      "metadata": {
        "colab": {
          "base_uri": "https://localhost:8080/"
        },
        "id": "rn0cwZ7fSgRM",
        "outputId": "70ebba29-2136-4411-b87f-1e678a5033ed"
      },
      "execution_count": 21,
      "outputs": [
        {
          "output_type": "stream",
          "name": "stdout",
          "text": [
            "Contatos:\n",
            "(10, 'João', 'joao@email.com', '999-999-9999')\n",
            "(11, 'Maria', 'maria@email.com', '987-654-3210')\n",
            "(12, 'Carlos', 'carlos@email.com', '555-555-5555')\n"
          ]
        }
      ]
    },
    {
      "cell_type": "code",
      "source": [
        "# UPDATE (Atualização do número de telefone do contato com ID 2)\n",
        "\n",
        "novo_telefone = '999-999-9999'\n",
        "\n",
        "contato_id = 10\n",
        "\n",
        "cursor.execute('UPDATE Contatos SET telefone = ? WHERE id = ?', (novo_telefone, contato_id))\n",
        "\n",
        "conn.commit()"
      ],
      "metadata": {
        "id": "nM2YIOBBRgIw"
      },
      "execution_count": 20,
      "outputs": []
    },
    {
      "cell_type": "code",
      "source": [
        "# DELETE (Exclusão do contato com ID 1)\n",
        "\n",
        "contato_id_para_excluir = 1\n",
        "\n",
        "cursor.execute('DELETE FROM Contatos WHERE id = ?', (contato_id_para_excluir,))\n",
        "\n",
        "conn.commit()\n",
        "\n",
        "# Fechando a conexão\n",
        "\n"
      ],
      "metadata": {
        "id": "PQPTTT90Rfzr"
      },
      "execution_count": 16,
      "outputs": []
    }
  ]
}
{
  "nbformat": 4,
  "nbformat_minor": 0,
  "metadata": {
    "colab": {
      "provenance": [],
      "authorship_tag": "ABX9TyP4MG8uT2QmLKHTalRjc57D",
      "include_colab_link": true
    },
    "kernelspec": {
      "name": "python3",
      "display_name": "Python 3"
    },
    "language_info": {
      "name": "python"
    }
  },
  "cells": [
    {
      "cell_type": "markdown",
      "metadata": {
        "id": "view-in-github",
        "colab_type": "text"
      },
      "source": [
        "<a href=\"https://colab.research.google.com/github/leandrodakel/Banco-de-Dados/blob/main/panda_media_clientes.ipynb\" target=\"_parent\"><img src=\"https://colab.research.google.com/assets/colab-badge.svg\" alt=\"Open In Colab\"/></a>"
      ]
    },
    {
      "cell_type": "code",
      "execution_count": 2,
      "metadata": {
        "colab": {
          "base_uri": "https://localhost:8080/"
        },
        "id": "fbFJTFVKK33h",
        "outputId": "e92a4b38-0d4b-41cd-f462-825eee18975d"
      },
      "outputs": [
        {
          "output_type": "stream",
          "name": "stdout",
          "text": [
            "Série de Idades:\n",
            "Alice    25\n",
            "Bob      30\n",
            "Carol    22\n",
            "David    35\n",
            "Eve      28\n",
            "dtype: int64\n",
            "\n",
            "Média de Idades: 28.0\n"
          ]
        }
      ],
      "source": [
        "# Podemos usar a biblioteca pandas para descobrir em qual público a loja deve investir. Para tanto, devemos calcular a média de idade dos clientes.\n",
        "\n",
        "import pandas as pd\n",
        "\n",
        "\n",
        "\n",
        "# Criar um dicionário com nomes e idades\n",
        "\n",
        "dados = {\n",
        "\n",
        "    'Nome': ['Alice', 'Bob', 'Carol', 'David', 'Eve'],\n",
        "\n",
        "    'Idade': [25, 30, 22, 35, 28]\n",
        "\n",
        "}\n",
        "\n",
        "# Criar uma série a partir do dicionário\n",
        "\n",
        "serie_idades = pd.Series(dados['Idade'], index=dados['Nome'])\n",
        "\n",
        "# Exibir a série de idades\n",
        "\n",
        "print(\"Série de Idades:\")\n",
        "\n",
        "print(serie_idades)\n",
        "\n",
        "# Calcular a média das idades\n",
        "\n",
        "media_idades = serie_idades.mean()\n",
        "\n",
        "print(\"\\nMédia de Idades:\", media_idades)"
      ]
    }
  ]
}